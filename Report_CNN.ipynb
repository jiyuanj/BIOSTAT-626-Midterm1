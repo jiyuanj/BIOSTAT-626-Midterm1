{
  "cells": [
    {
      "cell_type": "code",
      "execution_count": null,
      "id": "85cd8cf5",
      "metadata": {
        "id": "85cd8cf5"
      },
      "outputs": [],
      "source": [
        "import os\n",
        "import pandas as pd\n",
        "import numpy as np\n",
        "import tensorflow as tf\n",
        "from tensorflow import keras\n",
        "import matplotlib.pyplot as plt\n",
        "from sklearn.model_selection import train_test_split\n",
        "\n",
        "os.environ['CUDA_VISIBLE_DEVICES'] = '0'\n",
        "seed = 1\n",
        "tf.random.set_seed(seed)\n",
        "np.random.seed(seed)\n",
        "df = pd.read_table('training_data.txt', sep='\\t', skiprows=1, header=None)\n",
        "subject = df.iloc[:, 0]\n",
        "activity = df.iloc[:, 1]\n",
        "\n",
        "df = df.iloc[:, 2:]\n",
        "X = df.values\n",
        "y = activity.values\n",
        "y[y>=7]=0\n",
        "\n",
        "X_train, X_val, y_train, y_val = train_test_split(X, y, test_size=0.2, random_state=123)\n",
        "\n",
        "df = pd.read_table('test_data.txt', sep='\\t', skiprows=1, header=None)\n",
        "subject = df.iloc[:, 0]\n",
        "df = df.iloc[:, 1:]\n",
        "X_test = df.values"
      ]
    },
    {
      "cell_type": "code",
      "execution_count": null,
      "id": "cb4b5ea9",
      "metadata": {
        "id": "cb4b5ea9",
        "outputId": "22eaa33c-9e16-43d1-f321-b6e993f2c1d7"
      },
      "outputs": [
        {
          "name": "stdout",
          "output_type": "stream",
          "text": [
            "Epoch 1/30\n",
            "195/195 [==============================] - 5s 10ms/step - loss: 0.5818 - accuracy: 0.7634\n",
            "Epoch 2/30\n",
            "195/195 [==============================] - 2s 9ms/step - loss: 0.1572 - accuracy: 0.9467\n",
            "Epoch 3/30\n",
            "195/195 [==============================] - 2s 9ms/step - loss: 0.0987 - accuracy: 0.9667\n",
            "Epoch 4/30\n",
            "195/195 [==============================] - 2s 9ms/step - loss: 0.0701 - accuracy: 0.9762\n",
            "Epoch 5/30\n",
            "195/195 [==============================] - 2s 9ms/step - loss: 0.0558 - accuracy: 0.9805\n",
            "Epoch 6/30\n",
            "195/195 [==============================] - 2s 9ms/step - loss: 0.0445 - accuracy: 0.9868\n",
            "Epoch 7/30\n",
            "195/195 [==============================] - 2s 9ms/step - loss: 0.0432 - accuracy: 0.9847\n",
            "Epoch 8/30\n",
            "195/195 [==============================] - 2s 9ms/step - loss: 0.0330 - accuracy: 0.9883\n",
            "Epoch 9/30\n",
            "195/195 [==============================] - 2s 9ms/step - loss: 0.0278 - accuracy: 0.9899\n",
            "Epoch 10/30\n",
            "195/195 [==============================] - 2s 9ms/step - loss: 0.0479 - accuracy: 0.9823\n",
            "Epoch 11/30\n",
            "195/195 [==============================] - 2s 9ms/step - loss: 0.0187 - accuracy: 0.9939\n",
            "Epoch 12/30\n",
            "195/195 [==============================] - 2s 9ms/step - loss: 0.0138 - accuracy: 0.9957\n",
            "Epoch 13/30\n",
            "195/195 [==============================] - 2s 9ms/step - loss: 0.0136 - accuracy: 0.9950\n",
            "Epoch 14/30\n",
            "195/195 [==============================] - 2s 9ms/step - loss: 0.0181 - accuracy: 0.9937\n",
            "Epoch 15/30\n",
            "195/195 [==============================] - 2s 9ms/step - loss: 0.0226 - accuracy: 0.9916\n",
            "Epoch 16/30\n",
            "195/195 [==============================] - 2s 9ms/step - loss: 0.0143 - accuracy: 0.9955\n",
            "Epoch 17/30\n",
            "195/195 [==============================] - 2s 9ms/step - loss: 0.0066 - accuracy: 0.9977\n",
            "Epoch 18/30\n",
            "195/195 [==============================] - 2s 9ms/step - loss: 0.0101 - accuracy: 0.9966\n",
            "Epoch 19/30\n",
            "195/195 [==============================] - 2s 9ms/step - loss: 0.0123 - accuracy: 0.9958\n",
            "Epoch 20/30\n",
            "195/195 [==============================] - 2s 9ms/step - loss: 0.0072 - accuracy: 0.9979\n",
            "Epoch 21/30\n",
            "195/195 [==============================] - 2s 9ms/step - loss: 0.0130 - accuracy: 0.9952\n",
            "Epoch 22/30\n",
            "195/195 [==============================] - 1s 7ms/step - loss: 0.0051 - accuracy: 0.9984\n",
            "Epoch 23/30\n",
            "195/195 [==============================] - 2s 10ms/step - loss: 0.0017 - accuracy: 1.0000\n",
            "Epoch 24/30\n",
            "195/195 [==============================] - 2s 8ms/step - loss: 0.0031 - accuracy: 0.9989\n",
            "Epoch 25/30\n",
            "195/195 [==============================] - 1s 7ms/step - loss: 5.7916e-04 - accuracy: 1.0000\n",
            "Epoch 26/30\n",
            "195/195 [==============================] - 1s 7ms/step - loss: 2.7303e-04 - accuracy: 1.0000\n",
            "Epoch 27/30\n",
            "195/195 [==============================] - 1s 7ms/step - loss: 2.3829e-04 - accuracy: 1.0000\n",
            "Epoch 28/30\n",
            "195/195 [==============================] - 1s 7ms/step - loss: 1.9385e-04 - accuracy: 1.0000\n",
            "Epoch 29/30\n",
            "195/195 [==============================] - 1s 7ms/step - loss: 1.7053e-04 - accuracy: 1.0000\n",
            "Epoch 30/30\n",
            "195/195 [==============================] - 1s 7ms/step - loss: 1.5584e-04 - accuracy: 1.0000\n"
          ]
        }
      ],
      "source": [
        "X_test = np.expand_dims(X_test, -1)\n",
        "X_train = np.expand_dims(X_train, -1)\n",
        "X_val = np.expand_dims(X_val, -1)\n",
        "model = keras.models.Sequential([\n",
        "    keras.layers.Conv1D(16, 3, activation=\"tanh\", padding=\"same\"),\n",
        "    keras.layers.Conv1D(16, 3, activation=\"tanh\", padding=\"same\"),\n",
        "    keras.layers.MaxPooling1D(3),\n",
        "\n",
        "    keras.layers.Conv1D(64, 3, activation=\"tanh\", padding=\"same\"),\n",
        "    keras.layers.Conv1D(64, 3, activation=\"tanh\", padding=\"same\"),\n",
        "    keras.layers.MaxPooling1D(3),\n",
        "    \n",
        "    keras.layers.Conv1D(64, 3, activation=\"tanh\", padding=\"same\"),\n",
        "    keras.layers.Conv1D(64, 3, activation=\"tanh\", padding=\"same\"),\n",
        "    keras.layers.MaxPooling1D(3),\n",
        "    \n",
        "    keras.layers.Flatten(),\n",
        "    keras.layers.Dense(7, activation=\"softmax\")\n",
        "]) \n",
        "model.compile(loss=\"sparse_categorical_crossentropy\", optimizer=\"adam\",\n",
        "              metrics=[\"accuracy\"])\n",
        "history = model.fit(X_train, y_train, epochs=30)\n"
      ]
    },
    {
      "cell_type": "code",
      "execution_count": null,
      "id": "a89304e2",
      "metadata": {
        "id": "a89304e2",
        "outputId": "5cbb84c4-7489-4b8f-a074-530f53c56ba7"
      },
      "outputs": [
        {
          "name": "stdout",
          "output_type": "stream",
          "text": [
            "Train Data Accuracy: 1.0\n",
            "Validation Data Accuracy: 0.9864864864864865\n"
          ]
        }
      ],
      "source": [
        "## CNN\n",
        "y_pred = np.argmax(model.predict(X_train), axis=-1)\n",
        "count = np.sum(y_train==y_pred)\n",
        "print(f\"Train Data Accuracy: {count/len(y_train)}\")\n",
        "\n",
        "\n",
        "y_pred = np.argmax(model.predict(X_val), axis=-1)\n",
        "count = np.sum(y_val==y_pred)\n",
        "print(f\"Validation Data Accuracy: {count/len(y_val)}\")"
      ]
    },
    {
      "cell_type": "code",
      "execution_count": null,
      "id": "2af5d1a0",
      "metadata": {
        "id": "2af5d1a0",
        "outputId": "5feb0ddf-dfb1-43de-aa08-e59ca55e0cd3"
      },
      "outputs": [
        {
          "name": "stdout",
          "output_type": "stream",
          "text": [
            "Model: \"sequential\"\n",
            "_________________________________________________________________\n",
            "Layer (type)                 Output Shape              Param #   \n",
            "=================================================================\n",
            "conv1d (Conv1D)              (None, 561, 16)           64        \n",
            "_________________________________________________________________\n",
            "conv1d_1 (Conv1D)            (None, 561, 16)           784       \n",
            "_________________________________________________________________\n",
            "max_pooling1d (MaxPooling1D) (None, 187, 16)           0         \n",
            "_________________________________________________________________\n",
            "conv1d_2 (Conv1D)            (None, 187, 64)           3136      \n",
            "_________________________________________________________________\n",
            "conv1d_3 (Conv1D)            (None, 187, 64)           12352     \n",
            "_________________________________________________________________\n",
            "max_pooling1d_1 (MaxPooling1 (None, 62, 64)            0         \n",
            "_________________________________________________________________\n",
            "conv1d_4 (Conv1D)            (None, 62, 64)            12352     \n",
            "_________________________________________________________________\n",
            "conv1d_5 (Conv1D)            (None, 62, 64)            12352     \n",
            "_________________________________________________________________\n",
            "max_pooling1d_2 (MaxPooling1 (None, 20, 64)            0         \n",
            "_________________________________________________________________\n",
            "flatten (Flatten)            (None, 1280)              0         \n",
            "_________________________________________________________________\n",
            "dense (Dense)                (None, 7)                 8967      \n",
            "=================================================================\n",
            "Total params: 50,007\n",
            "Trainable params: 50,007\n",
            "Non-trainable params: 0\n",
            "_________________________________________________________________\n"
          ]
        }
      ],
      "source": [
        "model.summary()"
      ]
    },
    {
      "cell_type": "code",
      "execution_count": null,
      "id": "793c9b9d",
      "metadata": {
        "id": "793c9b9d",
        "outputId": "26573395-2033-46f5-9e15-59fec54cd157"
      },
      "outputs": [
        {
          "data": {
            "image/png": "[encoded data removed]",
            "text/plain": [
              "<Figure size 800x500 with 1 Axes>"
            ]
          },
          "metadata": {},
          "output_type": "display_data"
        }
      ],
      "source": [
        "pd.DataFrame(history.history).plot(figsize=(8, 5))\n",
        "plt.grid(True)\n",
        "plt.gca().set_ylim(0, 1) # set the vertical range to [0-1]\n",
        "plt.show() "
      ]
    }
  ],
  "metadata": {
    "kernelspec": {
      "display_name": "gpu",
      "language": "python",
      "name": "gpu"
    },
    "language_info": {
      "codemirror_mode": {
        "name": "ipython",
        "version": 3
      },
      "file_extension": ".py",
      "mimetype": "text/x-python",
      "name": "python",
      "nbconvert_exporter": "python",
      "pygments_lexer": "ipython3",
      "version": "3.8.16"
    },
    "colab": {
      "provenance": []
    }
  },
  "nbformat": 4,
  "nbformat_minor": 5
}