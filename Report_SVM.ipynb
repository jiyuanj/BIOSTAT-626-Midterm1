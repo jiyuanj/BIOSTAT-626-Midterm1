{
  "cells": [
    {
      "cell_type": "code",
      "execution_count": null,
      "id": "ccdf29ea",
      "metadata": {
        "id": "ccdf29ea"
      },
      "outputs": [],
      "source": [
        "import pandas as pd\n",
        "import numpy as np\n",
        "import tensorflow as tf\n",
        "from tensorflow import keras\n",
        "from sklearn.tree import DecisionTreeClassifier\n",
        "from sklearn.ensemble import VotingClassifier \n",
        "from sklearn.pipeline import Pipeline\n",
        "from sklearn.preprocessing import StandardScaler\n",
        "from sklearn.svm import LinearSVC\n",
        "from sklearn.ensemble import RandomForestClassifier\n",
        "from sklearn.model_selection import train_test_split\n",
        "\n",
        "\n",
        "df = pd.read_table('training_data.txt', sep='\\t', skiprows=1, header=None)\n",
        "subject = df.iloc[:, 0]\n",
        "activity = df.iloc[:, 1]\n",
        "\n",
        "df = df.iloc[:, 2:]\n",
        "X = df.values\n",
        "y = activity.values\n",
        "\n",
        "y[y>=7]=7\n",
        "\n",
        "X_train, X_val, y_train, y_val = train_test_split(X, y, test_size=0.2, random_state=123)\n",
        "\n",
        "df = pd.read_table('test_data.txt', sep='\\t', skiprows=1, header=None) \n",
        "subject = df.iloc[:, 0]\n",
        "df = df.iloc[:, 1:]\n",
        "X_test = df.values"
      ]
    },
    {
      "cell_type": "code",
      "execution_count": null,
      "id": "3d89533f",
      "metadata": {
        "id": "3d89533f",
        "outputId": "623a4a5a-a07c-403a-94c4-e99006e19c6c"
      },
      "outputs": [
        {
          "name": "stdout",
          "output_type": "stream",
          "text": [
            "Train Data Accuracy: 0.9784323193304362\n",
            "Validation Data Accuracy: 0.9742599742599742\n"
          ]
        }
      ],
      "source": [
        "from sklearn.svm import SVC\n",
        "\n",
        "clf = SVC()\n",
        "clf.fit(X_train, y_train)\n",
        "accuracy = clf.score(X_train, y_train)\n",
        "print(f\"Train Data Accuracy: {accuracy}\")\n",
        "accuracy = clf.score(X_val, y_val)\n",
        "print(f\"Validation Data Accuracy: {accuracy}\")"
      ]
    },
    {
      "cell_type": "code",
      "execution_count": null,
      "id": "452c4bb1",
      "metadata": {
        "id": "452c4bb1"
      },
      "outputs": [],
      "source": [
        "# Use GridSearchCV Tuning Parameters"
      ]
    },
    {
      "cell_type": "code",
      "execution_count": null,
      "id": "43a25052",
      "metadata": {
        "id": "43a25052",
        "outputId": "85f6c11c-0998-46f0-ef1b-869ac859761f"
      },
      "outputs": [
        {
          "name": "stdout",
          "output_type": "stream",
          "text": [
            "Best parameters set found on development set:\n",
            "\n",
            "{'C': 1000, 'gamma': 0.001, 'kernel': 'rbf'}\n",
            "\n",
            "Grid scores on development set:\n",
            "\n",
            "0.923 (+/-0.025) for {'C': 1, 'gamma': 0.001, 'kernel': 'rbf'}\n",
            "0.748 (+/-0.007) for {'C': 1, 'gamma': 0.0001, 'kernel': 'rbf'}\n",
            "0.975 (+/-0.009) for {'C': 10, 'gamma': 0.001, 'kernel': 'rbf'}\n",
            "0.924 (+/-0.025) for {'C': 10, 'gamma': 0.0001, 'kernel': 'rbf'}\n",
            "0.984 (+/-0.008) for {'C': 100, 'gamma': 0.001, 'kernel': 'rbf'}\n",
            "0.975 (+/-0.009) for {'C': 100, 'gamma': 0.0001, 'kernel': 'rbf'}\n",
            "0.985 (+/-0.004) for {'C': 1000, 'gamma': 0.001, 'kernel': 'rbf'}\n",
            "0.982 (+/-0.009) for {'C': 1000, 'gamma': 0.0001, 'kernel': 'rbf'}\n",
            "0.982 (+/-0.006) for {'C': 1, 'kernel': 'linear'}\n",
            "0.981 (+/-0.004) for {'C': 10, 'kernel': 'linear'}\n",
            "0.978 (+/-0.003) for {'C': 100, 'kernel': 'linear'}\n",
            "0.978 (+/-0.003) for {'C': 1000, 'kernel': 'linear'}\n"
          ]
        }
      ],
      "source": [
        "from sklearn import datasets\n",
        "from sklearn.model_selection import train_test_split\n",
        "from sklearn.model_selection import GridSearchCV\n",
        "from sklearn.metrics import classification_report\n",
        "import warnings\n",
        "\n",
        "warnings.filterwarnings(\"ignore\")\n",
        "\n",
        "\n",
        "tuned_parameters = [{'kernel': ['rbf'], 'gamma': [1e-3, 1e-4],\n",
        "                     'C': [1, 10, 100, 1000]},\n",
        "                    {'kernel': ['linear'], 'C': [1, 10, 100, 1000]}]\n",
        "\n",
        "# Use GridSearchCV to get the best SVC() model\n",
        "clf = GridSearchCV(SVC(), tuned_parameters, cv=5,\n",
        "                   scoring='accuracy')\n",
        "# fit clf\n",
        "clf.fit(X_train, y_train)\n",
        "\n",
        "print(\"Best parameters set found on development set:\")\n",
        "print()\n",
        "\n",
        "# Get best params\n",
        "print(clf.best_params_)\n",
        "\n",
        "print()\n",
        "print(\"Grid scores on development set:\")\n",
        "print()\n",
        "means = clf.cv_results_['mean_test_score']\n",
        "stds = clf.cv_results_['std_test_score']\n",
        "\n",
        "# print scores for every model\n",
        "for mean, std, params in zip(means, stds, clf.cv_results_['params']):\n",
        "    print(\"%0.3f (+/-%0.03f) for %r\"\n",
        "          % (mean, std * 2, params))\n"
      ]
    },
    {
      "cell_type": "code",
      "execution_count": null,
      "id": "5d6361bf",
      "metadata": {
        "id": "5d6361bf",
        "outputId": "9fb6f1b1-6ccd-4d5e-f80f-500553601926"
      },
      "outputs": [
        {
          "name": "stdout",
          "output_type": "stream",
          "text": [
            "Train Data Accuracy: 0.9966199903428296\n",
            "Validation Data Accuracy: 0.989060489060489\n"
          ]
        }
      ],
      "source": [
        "accuracy = clf.score(X_train, y_train)\n",
        "print(f\"Train Data Accuracy: {accuracy}\")\n",
        "accuracy = clf.score(X_val, y_val)\n",
        "print(f\"Validation Data Accuracy: {accuracy}\")\n"
      ]
    }
  ],
  "metadata": {
    "kernelspec": {
      "display_name": "gpu",
      "language": "python",
      "name": "gpu"
    },
    "language_info": {
      "codemirror_mode": {
        "name": "ipython",
        "version": 3
      },
      "file_extension": ".py",
      "mimetype": "text/x-python",
      "name": "python",
      "nbconvert_exporter": "python",
      "pygments_lexer": "ipython3",
      "version": "3.8.16"
    },
    "colab": {
      "provenance": []
    }
  },
  "nbformat": 4,
  "nbformat_minor": 5
}